{
 "cells": [
  {
   "cell_type": "markdown",
   "metadata": {},
   "source": [
    "# Importing Important Libraries"
   ]
  },
  {
   "cell_type": "code",
   "execution_count": 3,
   "metadata": {},
   "outputs": [],
   "source": [
    "import pandas as pd\n",
    "import numpy as np\n",
    "import os"
   ]
  },
  {
   "cell_type": "code",
   "execution_count": 10,
   "metadata": {},
   "outputs": [
    {
     "name": "stdout",
     "output_type": "stream",
     "text": [
      "Total number of samples: 1452\n",
      "\n",
      "Samples per label:\n",
      "rest: 588\n",
      "scissors: 108\n",
      "face: 108\n",
      "cat: 108\n",
      "shoe: 108\n",
      "house: 108\n",
      "scrambledpix: 108\n",
      "bottle: 108\n",
      "chair: 108\n",
      "\n",
      "Binary classification counts:\n",
      "\n",
      "Face vs House:\n",
      "Face: 108\n",
      "House: 108\n",
      "Total: 216\n",
      "\n",
      "Face vs Scissors:\n",
      "Face: 108\n",
      "Scissors: 108\n",
      "Total: 216\n"
     ]
    }
   ],
   "source": [
    "def analyze_target_file(target_csv):\n",
    "    \"\"\"\n",
    "    Analyze target.csv to get counts of samples\n",
    "    \"\"\"\n",
    "    # Read target file\n",
    "    targets = pd.read_csv(target_csv)\n",
    "    \n",
    "    # Calculate total samples\n",
    "    total_samples = len(targets)\n",
    "    \n",
    "    # Calculate samples per label\n",
    "    label_counts = targets['labels'].value_counts()\n",
    "    \n",
    "    print(f\"Total number of samples: {total_samples}\")\n",
    "    print(\"\\nSamples per label:\")\n",
    "    for label, count in label_counts.items():\n",
    "        print(f\"{label}: {count}\")\n",
    "        \n",
    "    # Print counts for binary classifications\n",
    "    print(\"\\nBinary classification counts:\")\n",
    "    \n",
    "    # Face vs House\n",
    "    face_house = targets[targets['labels'].isin(['face', 'house'])]\n",
    "    face_count = len(face_house[face_house['labels'] == 'face'])\n",
    "    house_count = len(face_house[face_house['labels'] == 'house'])\n",
    "    print(f\"\\nFace vs House:\")\n",
    "    print(f\"Face: {face_count}\")\n",
    "    print(f\"House: {house_count}\")\n",
    "    print(f\"Total: {face_count + house_count}\")\n",
    "    \n",
    "    # Face vs Scissors\n",
    "    face_scissors = targets[targets['labels'].isin(['face', 'scissors'])]\n",
    "    face_count = len(face_scissors[face_scissors['labels'] == 'face'])\n",
    "    scissors_count = len(face_scissors[face_scissors['labels'] == 'scissors'])\n",
    "    print(f\"\\nFace vs Scissors:\")\n",
    "    print(f\"Face: {face_count}\")\n",
    "    print(f\"Scissors: {scissors_count}\")\n",
    "    print(f\"Total: {face_count + scissors_count}\")\n",
    "\n",
    "if __name__ == \"__main__\":\n",
    "    TARGET_CSV = \"targets.csv\"\n",
    "    analyze_target_file(TARGET_CSV)"
   ]
  },
  {
   "cell_type": "markdown",
   "metadata": {},
   "source": [
    "## Preprocessing the data for binary classification\n"
   ]
  },
  {
   "cell_type": "code",
   "execution_count": 15,
   "metadata": {},
   "outputs": [
    {
     "name": "stdout",
     "output_type": "stream",
     "text": [
      "\n",
      "Processing face vs house for region vt\n",
      "vt\n",
      "Created vt_face_vs_house.csv\n",
      "Number of face: 108\n",
      "Number of house: 108\n",
      "\n",
      "Processing face vs scissors for region vt\n",
      "vt\n"
     ]
    },
    {
     "name": "stdout",
     "output_type": "stream",
     "text": [
      "Created vt_face_vs_scissors.csv\n",
      "Number of face: 108\n",
      "Number of scissors: 108\n",
      "\n",
      "Processing face vs house for region Inferior_frontal\n",
      "Inferior_frontal\n",
      "subj1/Inferior_frontal/RL/features.csv\n",
      "Created Inferior_frontal_face_vs_house.csv\n",
      "Number of face: 108\n",
      "Number of house: 108\n",
      "\n",
      "Processing face vs scissors for region Inferior_frontal\n",
      "Inferior_frontal\n",
      "subj1/Inferior_frontal/RL/features.csv\n",
      "Created Inferior_frontal_face_vs_scissors.csv\n",
      "Number of face: 108\n",
      "Number of scissors: 108\n"
     ]
    }
   ],
   "source": [
    "def create_binary_dataset(base_folder, region, target_csv, label1, label2):\n",
    "    \"\"\"\n",
    "    Create binary classification dataset for one region\n",
    "    \"\"\"\n",
    "    print(f\"\\nProcessing {label1} vs {label2} for region {region}\")\n",
    "    \n",
    "    # Read feature file (space-separated, no header)\n",
    "\n",
    "    print(region)\n",
    "\n",
    "    if region == \"vt\":\n",
    "\n",
    "        feature_file = os.path.join(base_folder, region, \"features.csv\")\n",
    "        features = pd.read_csv(feature_file, header=None, sep=' ')\n",
    "    else:\n",
    "        region_full = os.path.join(region, \"RL\")\n",
    "        feature_file = os.path.join(base_folder, region_full, \"features.csv\")\n",
    "        print(feature_file)\n",
    "        features = pd.read_csv(feature_file, header=None, sep=' ')\n",
    "\n",
    "    \n",
    "    # Read target labels\n",
    "    targets = pd.read_csv(target_csv)\n",
    "    \n",
    "    # Filter for required labels\n",
    "    mask = targets['labels'].isin([label1, label2])\n",
    "    filtered_targets = targets[mask]\n",
    "    \n",
    "    # Get features for selected labels using row indices\n",
    "    selected_features = features.iloc[filtered_targets.index - 1]\n",
    "    \n",
    "    # Create binary labels (0 for label1, 1 for label2)\n",
    "    binary_labels = (filtered_targets['labels'] == label2).astype(int)\n",
    "    \n",
    "    # Create final dataframe\n",
    "    final_df = selected_features.copy()\n",
    "    final_df['label'] = binary_labels.values\n",
    "    final_df['label_name'] = filtered_targets['labels'].values\n",
    "    \n",
    "    # Save to CSV without index and without numbering the feature columns\n",
    "\n",
    "    output_file = f\"{region}_{label1}_vs_{label2}.csv\"\n",
    "    final_df.to_csv(output_file, index=False, header=False)\n",
    "    print(f\"Created {output_file}\")\n",
    "    print(f\"Number of {label1}: {sum(binary_labels == 0)}\")\n",
    "    print(f\"Number of {label2}: {sum(binary_labels == 1)}\")\n",
    "\n",
    "def main():\n",
    "    # Settings\n",
    "    BASE_FOLDER = \"subj1\"  # Change this to your base folder path\n",
    "    REGIONS = [\"vt\", \"Inferior_frontal\"]\n",
    "    TARGET_CSV = \"targets.csv\"\n",
    "    \n",
    "    # Process each region\n",
    "    for region in REGIONS:\n",
    "        # Create face vs house dataset\n",
    "        create_binary_dataset(BASE_FOLDER, region, TARGET_CSV, \"face\", \"house\")\n",
    "        \n",
    "        # Create face vs scissors dataset\n",
    "        create_binary_dataset(BASE_FOLDER, region, TARGET_CSV, \"face\", \"scissors\")\n",
    "\n",
    "if __name__ == \"__main__\":\n",
    "    main()"
   ]
  }
 ],
 "metadata": {
  "kernelspec": {
   "display_name": "form_ocr",
   "language": "python",
   "name": "python3"
  },
  "language_info": {
   "codemirror_mode": {
    "name": "ipython",
    "version": 3
   },
   "file_extension": ".py",
   "mimetype": "text/x-python",
   "name": "python",
   "nbconvert_exporter": "python",
   "pygments_lexer": "ipython3",
   "version": "3.9.18"
  }
 },
 "nbformat": 4,
 "nbformat_minor": 2
}
